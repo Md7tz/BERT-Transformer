{
 "cells": [
  {
   "cell_type": "markdown",
   "id": "9326b697-bc16-422b-9194-bcfd348f49f4",
   "metadata": {},
   "source": [
    "## Text translation using pre-trained Transformers\r\n"
   ]
  },
  {
   "cell_type": "code",
   "execution_count": 1,
   "id": "43449e34-77d5-40a9-9a3e-863a08877027",
   "metadata": {},
   "outputs": [],
   "source": [
    "!pip install sentencepiece -q | grep -v 'already'"
   ]
  },
  {
   "cell_type": "code",
   "execution_count": 2,
   "id": "7b0a3ddc-9edd-46e5-a1da-031c88538c2f",
   "metadata": {},
   "outputs": [
    {
     "data": {
      "application/vnd.jupyter.widget-view+json": {
       "model_id": "1833b0fa81be43dfa8506b0c063a7055",
       "version_major": 2,
       "version_minor": 0
      },
      "text/plain": [
       "source.spm:   0%|          | 0.00/802k [00:00<?, ?B/s]"
      ]
     },
     "metadata": {},
     "output_type": "display_data"
    },
    {
     "data": {
      "application/vnd.jupyter.widget-view+json": {
       "model_id": "4b89c7bb4bc040e790e9f7a986014c10",
       "version_major": 2,
       "version_minor": 0
      },
      "text/plain": [
       "target.spm:   0%|          | 0.00/826k [00:00<?, ?B/s]"
      ]
     },
     "metadata": {},
     "output_type": "display_data"
    },
    {
     "data": {
      "application/vnd.jupyter.widget-view+json": {
       "model_id": "d2019a1a00064796975ea6c4d3926a5d",
       "version_major": 2,
       "version_minor": 0
      },
      "text/plain": [
       "vocab.json:   0%|          | 0.00/1.59M [00:00<?, ?B/s]"
      ]
     },
     "metadata": {},
     "output_type": "display_data"
    },
    {
     "name": "stderr",
     "output_type": "stream",
     "text": [
      "C:\\Users\\Medhat\\Anaconda3\\envs\\torch\\lib\\site-packages\\transformers\\models\\marian\\tokenization_marian.py:197: UserWarning: Recommended: pip install sacremoses.\n",
      "  warnings.warn(\"Recommended: pip install sacremoses.\")\n"
     ]
    }
   ],
   "source": [
    "from transformers import MarianMTModel, MarianTokenizer\n",
    "\n",
    "model_name = \"Helsinki-NLP/opus-mt-en-es\"\n",
    "model = MarianMTModel.from_pretrained(model_name)\n",
    "tokenizer = MarianTokenizer.from_pretrained(model_name)"
   ]
  },
  {
   "cell_type": "markdown",
   "id": "81b96f76-82ad-43fd-ab25-0cb56f4aa806",
   "metadata": {},
   "source": [
    "First, we import the `MarianMTModel` and `MarianTokenizer` classes from the `transformers` module, which is a popular Python library for working with transformer-based models such as BERT, GPT, and MarianMT.\r\n",
    "\r\n",
    "Next, we set the `model_name` variable to `Helsinki-NLP/opus-mt-en-es`, which is the name of the pre-trained model that will be used for English-to-Spanish translation.  Read more about this pre-trained model [here](https://huggingface.co/Helsinki-NLP/opus-mt-en-es).\r\n",
    "\r\n",
    "The `MarianTokenizer` class is then used to instantiate a `tokenizer` object, which will be used to tokenize the input text before passing it to the model.\r\n",
    "\r\n",
    "Similarly, the `MarianMTModel` class is used to instantiate a translation `model` object. The model object is initialized with the pre-trained weights of the English-to-Spanish translation model specified by `model_name`."
   ]
  },
  {
   "cell_type": "code",
   "execution_count": 4,
   "id": "0431cdd0-6ac2-4f32-ad09-3fe85f2f0caa",
   "metadata": {},
   "outputs": [],
   "source": [
    "import warnings\n",
    "warnings.filterwarnings('ignore')\n",
    "\n",
    "def translate(text: str) -> str:\n",
    "    \"\"\"\n",
    "    :param text: English yext\n",
    "    :return: Spanish Text (translated from English input)\n",
    "    \"\"\"\n",
    "    # Tokenize the input text\n",
    "    inputs = tokenizer(text, return_tensors='pt')\n",
    "    # Generate corresponding spanish translation encoded\n",
    "    outputs = model.generate(**inputs)\n",
    "    # Decode the translated text\n",
    "    translated = tokenizer.decode(outputs[0], skip_special_tokens=True)\n",
    "    return translated"
   ]
  },
  {
   "cell_type": "code",
   "execution_count": 5,
   "id": "611ac381-c743-42b6-9207-b196cd70cac9",
   "metadata": {},
   "outputs": [
    {
     "name": "stdout",
     "output_type": "stream",
     "text": [
      "Hola, ¿cómo estás hoy?\n"
     ]
    }
   ],
   "source": [
    "text = \"Hello, how are you doing today?\"\n",
    "translated = translate(text)\n",
    "print(translated)"
   ]
  },
  {
   "cell_type": "markdown",
   "id": "38d01d31-623b-45d5-b99d-0a1a18cc5e60",
   "metadata": {},
   "source": [
    "TODO:\r\n",
    "\r\n",
    "Try building a text translation application that can detect and translate text from different languages. You can use the pre-trained models available [here](https://huggingface.co/models?pipeline_tag=translation&sort=downloads)."
   ]
  }
 ],
 "metadata": {
  "kernelspec": {
   "display_name": "Python 3 (ipykernel)",
   "language": "python",
   "name": "python3"
  },
  "language_info": {
   "codemirror_mode": {
    "name": "ipython",
    "version": 3
   },
   "file_extension": ".py",
   "mimetype": "text/x-python",
   "name": "python",
   "nbconvert_exporter": "python",
   "pygments_lexer": "ipython3",
   "version": "3.10.13"
  }
 },
 "nbformat": 4,
 "nbformat_minor": 5
}
