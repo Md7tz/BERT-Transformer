{
 "cells": [
  {
   "cell_type": "markdown",
   "id": "43bb6736-28a0-499a-b5a8-fe584c376ef1",
   "metadata": {},
   "source": [
    "## Text Generation using pre-trained HuggingFace Transformer models\r\n",
    "\r\n",
    "### Step 1: Load the pre-trained GPT-2 model"
   ]
  },
  {
   "cell_type": "code",
   "execution_count": 1,
   "id": "28a22f57-8357-4fcc-989a-424281a88ead",
   "metadata": {},
   "outputs": [],
   "source": [
    "from transformers import GPT2LMHeadModel, GPT2Tokenizer\n",
    "\n",
    "# Load pre-trained GPT-2 model and tokenizer\n",
    "model_name = \"gpt2\"\n",
    "model = GPT2LMHeadModel.from_pretrained(model_name)\n",
    "tokenizer = GPT2Tokenizer.from_pretrained(model_name)"
   ]
  },
  {
   "cell_type": "markdown",
   "id": "336fa426-93c8-4574-9d81-122a4c7697ba",
   "metadata": {},
   "source": [
    "### Step 2: Define the prompt text"
   ]
  },
  {
   "cell_type": "code",
   "execution_count": 2,
   "id": "e16908b5-f646-459f-9404-7dc933fd3033",
   "metadata": {},
   "outputs": [],
   "source": [
    "prompt = \"The quick brown fox\""
   ]
  },
  {
   "cell_type": "markdown",
   "id": "14f7f854-7b51-4a85-be45-0f05c2a7e8c3",
   "metadata": {},
   "source": [
    "### Step 3: Generate text using the GPT-2 Model"
   ]
  },
  {
   "cell_type": "code",
   "execution_count": 3,
   "id": "333af9fc-604f-4869-958e-4fe97590b3e8",
   "metadata": {},
   "outputs": [
    {
     "name": "stderr",
     "output_type": "stream",
     "text": [
      "The attention mask and the pad token id were not set. As a consequence, you may observe unexpected behavior. Please pass your input's `attention_mask` to obtain reliable results.\n",
      "Setting `pad_token_id` to `eos_token_id`:50256 for open-end generation.\n"
     ]
    },
    {
     "data": {
      "text/plain": [
       "'The quick brown fox has to be a bit slower then it is for the large black fox - it will almost always fly in the direction of your target. The smaller one can go very straight for the big one, and has a longer tail.\\n'"
      ]
     },
     "execution_count": 3,
     "metadata": {},
     "output_type": "execute_result"
    }
   ],
   "source": [
    "# Generate text using the GPT-2 model\n",
    "input_ids = tokenizer.encode(prompt, return_tensors='pt')\n",
    "output = model.generate(input_ids, max_length=50, do_sample=True)\n",
    "\n",
    "# Decode to readable text\n",
    "generated_text = tokenizer.decode(output[0], skip_special_tokens=True)\n",
    "generated_text"
   ]
  },
  {
   "cell_type": "code",
   "execution_count": 4,
   "id": "e3745277-995e-4f4d-91ef-ff9bd6241fbc",
   "metadata": {},
   "outputs": [
    {
     "name": "stdout",
     "output_type": "stream",
     "text": [
      "The quick brown fox has to be a bit slower then it is for the large black fox - it will almost always fly in the direction of your target. The smaller one can go very straight for the big one, and has a longer tail.\n",
      "\n"
     ]
    }
   ],
   "source": [
    "print(generated_text)"
   ]
  }
 ],
 "metadata": {
  "kernelspec": {
   "display_name": "Python 3 (ipykernel)",
   "language": "python",
   "name": "python3"
  },
  "language_info": {
   "codemirror_mode": {
    "name": "ipython",
    "version": 3
   },
   "file_extension": ".py",
   "mimetype": "text/x-python",
   "name": "python",
   "nbconvert_exporter": "python",
   "pygments_lexer": "ipython3",
   "version": "3.10.13"
  }
 },
 "nbformat": 4,
 "nbformat_minor": 5
}
